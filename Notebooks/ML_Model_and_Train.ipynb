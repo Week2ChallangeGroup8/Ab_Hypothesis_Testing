{
 "cells": [
  {
   "cell_type": "markdown",
   "id": "c76ace58",
   "metadata": {},
   "source": [
    "# ML_Modeling"
   ]
  },
  {
   "cell_type": "code",
   "execution_count": 1,
   "id": "0ef0f437",
   "metadata": {},
   "outputs": [],
   "source": [
    "import os\n",
    "import sys\n",
    "sys.path.append(os.path.abspath(os.path.join('../scripts')))\n",
    "import seaborn as sns\n",
    "import matplotlib.pyplot as plt\n",
    "%matplotlib inline\n",
    "import plotly.express as px"
   ]
  },
  {
   "cell_type": "code",
   "execution_count": 2,
   "id": "9ae6f5e4",
   "metadata": {},
   "outputs": [],
   "source": [
    "import warnings\n",
    "warnings.filterwarnings('ibgnore')\n",
    "import dvc.api"
   ]
  },
  {
   "cell_type": "code",
   "execution_count": 5,
   "id": "fc5c11fb",
   "metadata": {},
   "outputs": [],
   "source": [
    "import numpy as np\n",
    "import pandas as pd\n",
    "import scipy.stats as scs\n",
    "import random\n",
    "import math\n",
    "from sklearn import preprocessing\n",
    "from sklearn.model_selection import train_test_split\n",
    "from sklearn.linear_model import LogisticRegression\n",
    "from sklearn.tree import DecisionTreeClassifier \n",
    "from sklearn import metrics\n",
    "from sklearn.model_selection import KFold\n",
    "from sklearn.tree import export_graphviz\n",
    "from six import StringIO\n",
    "from IPython.display import Image  \n",
    "#import pydotplus\n",
    "from sklearn import tree\n",
    "import scipy.stats as stat\n",
    "from sklearn.metrics import mean_squared_error, mean_absolute_error, r2_score\n",
    "from sklearn.ensemble import GradientBoostingClassifier\n",
    "#from helper import Helper\n",
    "\n"
   ]
  },
  {
   "cell_type": "code",
   "execution_count": 9,
   "id": "a9abec48",
   "metadata": {},
   "outputs": [],
   "source": [
    "#import local modules\n",
    "import Graphs\n",
    "from Decision_tree import handler\n",
    "from Decision_tree import DecisionTreesModel\n",
    "\n",
    "from XGB import boost\n",
    "from logistic_regression import Logistic"
   ]
  },
  {
   "cell_type": "code",
   "execution_count": 13,
   "id": "3308653c",
   "metadata": {},
   "outputs": [
    {
     "name": "stdout",
     "output_type": "stream",
     "text": [
      "<class 'pandas.core.frame.DataFrame'>\n",
      "RangeIndex: 428 entries, 0 to 427\n",
      "Data columns (total 9 columns):\n",
      " #   Column       Non-Null Count  Dtype \n",
      "---  ------       --------------  ----- \n",
      " 0   auction_id   428 non-null    object\n",
      " 1   experiment   428 non-null    object\n",
      " 2   date         428 non-null    object\n",
      " 3   hour         428 non-null    int64 \n",
      " 4   device_make  428 non-null    object\n",
      " 5   platform_os  428 non-null    int64 \n",
      " 6   browser      428 non-null    object\n",
      " 7   yes          428 non-null    int64 \n",
      " 8   no           428 non-null    int64 \n",
      "dtypes: int64(4), object(5)\n",
      "memory usage: 30.2+ KB\n"
     ]
    }
   ],
   "source": [
    "df= pd.read_csv(\"../data/AdSmartABdata.csv\")\n",
    "df.info()"
   ]
  },
  {
   "cell_type": "code",
   "execution_count": 16,
   "id": "77ee5c16",
   "metadata": {},
   "outputs": [
    {
     "data": {
      "text/html": [
       "<div>\n",
       "<style scoped>\n",
       "    .dataframe tbody tr th:only-of-type {\n",
       "        vertical-align: middle;\n",
       "    }\n",
       "\n",
       "    .dataframe tbody tr th {\n",
       "        vertical-align: top;\n",
       "    }\n",
       "\n",
       "    .dataframe thead th {\n",
       "        text-align: right;\n",
       "    }\n",
       "</style>\n",
       "<table border=\"1\" class=\"dataframe\">\n",
       "  <thead>\n",
       "    <tr style=\"text-align: right;\">\n",
       "      <th></th>\n",
       "      <th>auction_id</th>\n",
       "      <th>experiment</th>\n",
       "      <th>date</th>\n",
       "      <th>hour</th>\n",
       "      <th>device_make</th>\n",
       "      <th>platform_os</th>\n",
       "      <th>browser</th>\n",
       "      <th>yes</th>\n",
       "      <th>no</th>\n",
       "    </tr>\n",
       "  </thead>\n",
       "  <tbody>\n",
       "    <tr>\n",
       "      <th>161</th>\n",
       "      <td>688aaac1-535e-417a-a8d4-a529b033cbfa</td>\n",
       "      <td>control</td>\n",
       "      <td>2020-07-04</td>\n",
       "      <td>3</td>\n",
       "      <td>iPhone</td>\n",
       "      <td>5</td>\n",
       "      <td>Mobile Safari</td>\n",
       "      <td>1</td>\n",
       "      <td>0</td>\n",
       "    </tr>\n",
       "    <tr>\n",
       "      <th>187</th>\n",
       "      <td>7c003bed-32c3-4236-abf0-f571debe769b</td>\n",
       "      <td>exposed</td>\n",
       "      <td>2020-07-05</td>\n",
       "      <td>3</td>\n",
       "      <td>iPhone</td>\n",
       "      <td>5</td>\n",
       "      <td>Mobile Safari</td>\n",
       "      <td>1</td>\n",
       "      <td>0</td>\n",
       "    </tr>\n",
       "    <tr>\n",
       "      <th>267</th>\n",
       "      <td>a73ec6ae-0524-459a-bdf8-5ab9f04c213c</td>\n",
       "      <td>control</td>\n",
       "      <td>2020-07-09</td>\n",
       "      <td>9</td>\n",
       "      <td>iPhone</td>\n",
       "      <td>5</td>\n",
       "      <td>Mobile Safari</td>\n",
       "      <td>1</td>\n",
       "      <td>0</td>\n",
       "    </tr>\n",
       "    <tr>\n",
       "      <th>383</th>\n",
       "      <td>e1614006-0540-4d1a-9bc7-d2f0d15d73ca</td>\n",
       "      <td>control</td>\n",
       "      <td>2020-07-09</td>\n",
       "      <td>5</td>\n",
       "      <td>iPhone</td>\n",
       "      <td>5</td>\n",
       "      <td>Mobile Safari</td>\n",
       "      <td>1</td>\n",
       "      <td>0</td>\n",
       "    </tr>\n",
       "    <tr>\n",
       "      <th>397</th>\n",
       "      <td>ec4c1cde-1e93-4b47-b5ea-9f31b8cc5295</td>\n",
       "      <td>control</td>\n",
       "      <td>2020-07-04</td>\n",
       "      <td>11</td>\n",
       "      <td>iPhone</td>\n",
       "      <td>5</td>\n",
       "      <td>Chrome Mobile iOS</td>\n",
       "      <td>1</td>\n",
       "      <td>0</td>\n",
       "    </tr>\n",
       "  </tbody>\n",
       "</table>\n",
       "</div>"
      ],
      "text/plain": [
       "                               auction_id experiment        date  hour  \\\n",
       "161  688aaac1-535e-417a-a8d4-a529b033cbfa    control  2020-07-04     3   \n",
       "187  7c003bed-32c3-4236-abf0-f571debe769b    exposed  2020-07-05     3   \n",
       "267  a73ec6ae-0524-459a-bdf8-5ab9f04c213c    control  2020-07-09     9   \n",
       "383  e1614006-0540-4d1a-9bc7-d2f0d15d73ca    control  2020-07-09     5   \n",
       "397  ec4c1cde-1e93-4b47-b5ea-9f31b8cc5295    control  2020-07-04    11   \n",
       "\n",
       "    device_make  platform_os            browser  yes  no  \n",
       "161      iPhone            5      Mobile Safari    1   0  \n",
       "187      iPhone            5      Mobile Safari    1   0  \n",
       "267      iPhone            5      Mobile Safari    1   0  \n",
       "383      iPhone            5      Mobile Safari    1   0  \n",
       "397      iPhone            5  Chrome Mobile iOS    1   0  "
      ]
     },
     "execution_count": 16,
     "metadata": {},
     "output_type": "execute_result"
    }
   ],
   "source": [
    "#Users who actually responded yes/no to the question of awareness\n",
    "answered_df = df.copy(deep=True)\n",
    "answered_df = answered_df[answered_df['yes'] == 1].append(answered_df[answered_df['no'] == 1])\n",
    "answered_df.head()"
   ]
  },
  {
   "cell_type": "markdown",
   "id": "411a1075",
   "metadata": {},
   "source": [
    "# Encoding"
   ]
  },
  {
   "cell_type": "code",
   "execution_count": 18,
   "id": "89198107",
   "metadata": {},
   "outputs": [],
   "source": [
    "def encode_labels(df):\n",
    "    date_encoder = preprocessing.LabelEncoder()\n",
    "    device_encoder = preprocessing.LabelEncoder()\n",
    "    browser_encoder = preprocessing.LabelEncoder()\n",
    "    experiment_encoder = preprocessing.LabelEncoder()\n",
    "    response_encoder = preprocessing.LabelEncoder()\n",
    "    \n",
    "    df['date'] = date_encoder.fit_transform(df['date'])\n",
    "    df['device_make'] = device_encoder.fit_transform(df['device_make'])\n",
    "    df['browser'] = browser_encoder.fit_transform(df['browser'])\n",
    "    df['experiment'] = experiment_encoder.fit_transform(cleaned_df['experiment'])\n",
    "    df['browser'] = aware_encoder.fit_transform(df['browser'])\n",
    "    df['response'] = aware_encoder.fit_transform(df['response'])\n",
    "\n",
    "\n",
    "    \n",
    "    return df"
   ]
  },
  {
   "cell_type": "code",
   "execution_count": null,
   "id": "96e175ec",
   "metadata": {},
   "outputs": [],
   "source": []
  }
 ],
 "metadata": {
  "kernelspec": {
   "display_name": "Python 3",
   "language": "python",
   "name": "python3"
  },
  "language_info": {
   "codemirror_mode": {
    "name": "ipython",
    "version": 3
   },
   "file_extension": ".py",
   "mimetype": "text/x-python",
   "name": "python",
   "nbconvert_exporter": "python",
   "pygments_lexer": "ipython3",
   "version": "3.8.8"
  }
 },
 "nbformat": 4,
 "nbformat_minor": 5
}
