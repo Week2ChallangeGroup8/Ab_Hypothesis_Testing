{
 "cells": [
  {
   "cell_type": "markdown",
   "id": "1d35af57",
   "metadata": {},
   "source": [
    "# Classical AB Testing"
   ]
  },
  {
   "cell_type": "code",
   "execution_count": 1,
   "id": "06e54307",
   "metadata": {},
   "outputs": [],
   "source": [
    "#Importing Libraries\n",
    "import sys\n",
    "import os\n",
    "import dvc.api\n",
    "import numpy as np\n",
    "import scipy.stats as stats \n",
    "import pandas as pd\n",
    "import seaborn as sns\n",
    "import matplotlib.pyplot as plt"
   ]
  },
  {
   "cell_type": "code",
   "execution_count": 8,
   "id": "48e75559",
   "metadata": {},
   "outputs": [
    {
     "ename": "ModuleNotFoundError",
     "evalue": "No module named 'Graphs'",
     "output_type": "error",
     "traceback": [
      "\u001b[1;31m---------------------------------------------------------------------------\u001b[0m",
      "\u001b[1;31mModuleNotFoundError\u001b[0m                       Traceback (most recent call last)",
      "\u001b[1;32m<ipython-input-8-8a0d10f42202>\u001b[0m in \u001b[0;36m<module>\u001b[1;34m\u001b[0m\n\u001b[1;32m----> 1\u001b[1;33m \u001b[1;32mfrom\u001b[0m \u001b[0mGraphs\u001b[0m \u001b[1;32mimport\u001b[0m \u001b[0mdraw\u001b[0m\u001b[1;33m\u001b[0m\u001b[1;33m\u001b[0m\u001b[0m\n\u001b[0m",
      "\u001b[1;31mModuleNotFoundError\u001b[0m: No module named 'Graphs'"
     ]
    }
   ],
   "source": [
    "# from Graphs import draw"
   ]
  },
  {
   "cell_type": "markdown",
   "id": "f8c85e67",
   "metadata": {},
   "source": [
    "# Defining our Experiment"
   ]
  },
  {
   "cell_type": "markdown",
   "id": "e0b978b0",
   "metadata": {},
   "source": [
    "Ho(null hypothesis): users who saw the smart Ad(treated users) don't show any difference\n",
    "                    in responding to the Bio to the ones who were shown the dummy Ad \n",
    "H1(Alternative hypothesis): exposed users are more responsive to the BIO than the ones shown the dummy Ad"
   ]
  },
  {
   "cell_type": "markdown",
   "id": "a8e55461",
   "metadata": {},
   "source": [
    "\n",
    "#to see which of the group respond better we have to use the two tailed test\n",
    "    #let P0 is conversion rate of the controled users and\n",
    "    #let p is conversion rate of the exposed users\n",
    "#so for Ho- p0=p\n",
    "        H1- p0<p\n",
    "               \n",
    "and defining a confidence level of 95%,the acceptable value of type I error α= (1-0.95)=0.05\n",
    "                \n",
    "    setting statistical power to 80%, so beta B(Beta) = 0.2 or 20%\n",
    "    "
   ]
  },
  {
   "cell_type": "code",
   "execution_count": 10,
   "id": "3c41faa9",
   "metadata": {},
   "outputs": [],
   "source": [
    "#getting clean data from output of data exploration\n",
    "combined_df= pd.read_csv('../data/Clean_Ab_Hypothesis_Testing.csv')"
   ]
  },
  {
   "cell_type": "code",
   "execution_count": 11,
   "id": "61e053a3",
   "metadata": {},
   "outputs": [
    {
     "name": "stdout",
     "output_type": "stream",
     "text": [
      "<class 'pandas.core.frame.DataFrame'>\n",
      "RangeIndex: 1243 entries, 0 to 1242\n",
      "Data columns (total 8 columns):\n",
      " #   Column       Non-Null Count  Dtype \n",
      "---  ------       --------------  ----- \n",
      " 0   auction_id   1243 non-null   object\n",
      " 1   experiment   1243 non-null   object\n",
      " 2   date         1243 non-null   object\n",
      " 3   hour         1243 non-null   int64 \n",
      " 4   device_make  1243 non-null   object\n",
      " 5   platform_os  1243 non-null   int64 \n",
      " 6   browser      1243 non-null   object\n",
      " 7   response     1243 non-null   int64 \n",
      "dtypes: int64(3), object(5)\n",
      "memory usage: 77.8+ KB\n"
     ]
    }
   ],
   "source": [
    "combined_df.info()"
   ]
  },
  {
   "cell_type": "markdown",
   "id": "cbdaae43",
   "metadata": {},
   "source": [
    "# Identifing Conversion Rates"
   ]
  },
  {
   "cell_type": "code",
   "execution_count": null,
   "id": "ae873d95",
   "metadata": {},
   "outputs": [],
   "source": []
  }
 ],
 "metadata": {
  "kernelspec": {
   "display_name": "Python 3",
   "language": "python",
   "name": "python3"
  },
  "language_info": {
   "codemirror_mode": {
    "name": "ipython",
    "version": 3
   },
   "file_extension": ".py",
   "mimetype": "text/x-python",
   "name": "python",
   "nbconvert_exporter": "python",
   "pygments_lexer": "ipython3",
   "version": "3.8.8"
  }
 },
 "nbformat": 4,
 "nbformat_minor": 5
}
