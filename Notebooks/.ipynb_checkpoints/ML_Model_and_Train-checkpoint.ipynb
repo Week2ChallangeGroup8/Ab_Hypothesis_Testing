{
 "cells": [
  {
   "cell_type": "markdown",
   "id": "c76ace58",
   "metadata": {},
   "source": [
    "# ML_Modeling"
   ]
  },
  {
   "cell_type": "code",
   "execution_count": 1,
   "id": "0ef0f437",
   "metadata": {},
   "outputs": [],
   "source": [
    "import os\n",
    "import sys\n",
    "sys.path.append(os.path.abspath(os.path.join('../scripts')))\n",
    "import seaborn as sns\n",
    "import matplotlib.pyplot as plt\n",
    "%matplotlib inline\n",
    "import plotly.express as px"
   ]
  },
  {
   "cell_type": "code",
   "execution_count": 2,
   "id": "9ae6f5e4",
   "metadata": {},
   "outputs": [],
   "source": []
  },
  {
   "cell_type": "code",
   "execution_count": 4,
   "id": "622fe72a",
   "metadata": {},
   "outputs": [
    {
     "data": {
      "text/html": [
       "<div>\n",
       "<style scoped>\n",
       "    .dataframe tbody tr th:only-of-type {\n",
       "        vertical-align: middle;\n",
       "    }\n",
       "\n",
       "    .dataframe tbody tr th {\n",
       "        vertical-align: top;\n",
       "    }\n",
       "\n",
       "    .dataframe thead th {\n",
       "        text-align: right;\n",
       "    }\n",
       "</style>\n",
       "<table border=\"1\" class=\"dataframe\">\n",
       "  <thead>\n",
       "    <tr style=\"text-align: right;\">\n",
       "      <th></th>\n",
       "      <th>auction_id</th>\n",
       "      <th>experiment</th>\n",
       "      <th>date</th>\n",
       "      <th>hour</th>\n",
       "      <th>device_make</th>\n",
       "      <th>platform_os</th>\n",
       "      <th>browser</th>\n",
       "      <th>yes</th>\n",
       "      <th>no</th>\n",
       "    </tr>\n",
       "  </thead>\n",
       "  <tbody>\n",
       "    <tr>\n",
       "      <th>0</th>\n",
       "      <td>0008ef63-77a7-448b-bd1e-075f42c55e39</td>\n",
       "      <td>exposed</td>\n",
       "      <td>2020-07-10</td>\n",
       "      <td>8</td>\n",
       "      <td>Generic Smartphone</td>\n",
       "      <td>6</td>\n",
       "      <td>Chrome Mobile</td>\n",
       "      <td>0</td>\n",
       "      <td>0</td>\n",
       "    </tr>\n",
       "    <tr>\n",
       "      <th>1</th>\n",
       "      <td>000eabc5-17ce-4137-8efe-44734d914446</td>\n",
       "      <td>exposed</td>\n",
       "      <td>2020-07-07</td>\n",
       "      <td>10</td>\n",
       "      <td>Generic Smartphone</td>\n",
       "      <td>6</td>\n",
       "      <td>Chrome Mobile</td>\n",
       "      <td>0</td>\n",
       "      <td>0</td>\n",
       "    </tr>\n",
       "    <tr>\n",
       "      <th>2</th>\n",
       "      <td>0016d14a-ae18-4a02-a204-6ba53b52f2ed</td>\n",
       "      <td>exposed</td>\n",
       "      <td>2020-07-05</td>\n",
       "      <td>2</td>\n",
       "      <td>E5823</td>\n",
       "      <td>6</td>\n",
       "      <td>Chrome Mobile WebView</td>\n",
       "      <td>0</td>\n",
       "      <td>1</td>\n",
       "    </tr>\n",
       "    <tr>\n",
       "      <th>3</th>\n",
       "      <td>00187412-2932-4542-a8ef-3633901c98d9</td>\n",
       "      <td>control</td>\n",
       "      <td>2020-07-03</td>\n",
       "      <td>15</td>\n",
       "      <td>Samsung SM-A705FN</td>\n",
       "      <td>6</td>\n",
       "      <td>Facebook</td>\n",
       "      <td>0</td>\n",
       "      <td>0</td>\n",
       "    </tr>\n",
       "    <tr>\n",
       "      <th>4</th>\n",
       "      <td>001a7785-d3fe-4e11-a344-c8735acacc2c</td>\n",
       "      <td>control</td>\n",
       "      <td>2020-07-03</td>\n",
       "      <td>15</td>\n",
       "      <td>Generic Smartphone</td>\n",
       "      <td>6</td>\n",
       "      <td>Chrome Mobile</td>\n",
       "      <td>0</td>\n",
       "      <td>0</td>\n",
       "    </tr>\n",
       "  </tbody>\n",
       "</table>\n",
       "</div>"
      ],
      "text/plain": [
       "                             auction_id experiment        date  hour  \\\n",
       "0  0008ef63-77a7-448b-bd1e-075f42c55e39    exposed  2020-07-10     8   \n",
       "1  000eabc5-17ce-4137-8efe-44734d914446    exposed  2020-07-07    10   \n",
       "2  0016d14a-ae18-4a02-a204-6ba53b52f2ed    exposed  2020-07-05     2   \n",
       "3  00187412-2932-4542-a8ef-3633901c98d9    control  2020-07-03    15   \n",
       "4  001a7785-d3fe-4e11-a344-c8735acacc2c    control  2020-07-03    15   \n",
       "\n",
       "          device_make  platform_os                browser  yes  no  \n",
       "0  Generic Smartphone            6          Chrome Mobile    0   0  \n",
       "1  Generic Smartphone            6          Chrome Mobile    0   0  \n",
       "2               E5823            6  Chrome Mobile WebView    0   1  \n",
       "3   Samsung SM-A705FN            6               Facebook    0   0  \n",
       "4  Generic Smartphone            6          Chrome Mobile    0   0  "
      ]
     },
     "execution_count": 4,
     "metadata": {},
     "output_type": "execute_result"
    }
   ],
   "source": []
  },
  {
   "cell_type": "markdown",
   "id": "b85f953b",
   "metadata": {},
   "source": [
    "# Spliting Data"
   ]
  },
  {
   "cell_type": "markdown",
   "id": "1d0853eb",
   "metadata": {},
   "source": [
    "### 1- by Browser"
   ]
  },
  {
   "cell_type": "code",
   "execution_count": 8,
   "id": "d49d1754",
   "metadata": {},
   "outputs": [
    {
     "data": {
      "text/plain": [
       "browser\n",
       "Android                          1\n",
       "Edge Mobile                      1\n",
       "Firefox Mobile                   1\n",
       "Opera Mini                       1\n",
       "Puffin                           1\n",
       "Chrome                           3\n",
       "Opera Mobile                     3\n",
       "Pinterest                        3\n",
       "Mobile Safari UI/WKWebView      44\n",
       "Chrome Mobile iOS               51\n",
       "Mobile Safari                  337\n",
       "Facebook                       764\n",
       "Samsung Internet               824\n",
       "Chrome Mobile WebView         1489\n",
       "Chrome Mobile                 4554\n",
       "dtype: int64"
      ]
     },
     "execution_count": 8,
     "metadata": {},
     "output_type": "execute_result"
    }
   ],
   "source": [
    "browser = df.groupby('browser')\n",
    "browser_size = browser.size()\n",
    "browser_size.sort_values(ascending=True)"
   ]
  },
  {
   "cell_type": "code",
   "execution_count": 22,
   "id": "f998f5e5",
   "metadata": {},
   "outputs": [],
   "source": [
    "def get_index_based_on_size(size: np.array, value: int) -> list:\n",
    "    size = size.tolist()\n",
    "    index_list = []\n",
    "    for index in range(len(size)):\n",
    "        if(size[index] >= value):\n",
    "            index_list.append(index)\n",
    "\n",
    "    return index_list\n",
    "\n",
    "def get_df_of_each_group(grouped_df: pd.DataFrame, selected_index: list) -> list:\n",
    "    size_series = grouped_df.size()\n",
    "    df_list = []\n",
    "    for index in selected_index:\n",
    "        df = grouped_df.get_group(size_series.index[index])\n",
    "        df_list.append(df.reset_index().drop('index', axis=1))\n",
    "\n",
    "    return df_list"
   ]
  },
  {
   "cell_type": "code",
   "execution_count": 24,
   "id": "7b0a4c77",
   "metadata": {},
   "outputs": [
    {
     "data": {
      "text/plain": [
       "5"
      ]
     },
     "execution_count": 24,
     "metadata": {},
     "output_type": "execute_result"
    }
   ],
   "source": [
    "#identifying model training worth data\n",
    "size = get_index_based_on_size(browser_size.values, 100)\n",
    "browser_dfs = get_df_of_each_group(browser, size)\n",
    "len(browser_dfs)\n"
   ]
  },
  {
   "cell_type": "markdown",
   "id": "7bf5cba2",
   "metadata": {},
   "source": [
    "### 2 - by Platform"
   ]
  },
  {
   "cell_type": "code",
   "execution_count": 31,
   "id": "c0a16122",
   "metadata": {},
   "outputs": [
    {
     "data": {
      "text/plain": [
       "platform_os\n",
       "7       1\n",
       "5     428\n",
       "6    7648\n",
       "dtype: int64"
      ]
     },
     "execution_count": 31,
     "metadata": {},
     "output_type": "execute_result"
    }
   ],
   "source": [
    "platform = df.groupby('platform_os')\n",
    "platform_size = platform.size()\n",
    "platform_size\n",
    "platform_size.sort_values(ascending=True)"
   ]
  },
  {
   "cell_type": "code",
   "execution_count": 32,
   "id": "a780b7fb",
   "metadata": {},
   "outputs": [
    {
     "data": {
      "text/plain": [
       "2"
      ]
     },
     "execution_count": 32,
     "metadata": {},
     "output_type": "execute_result"
    }
   ],
   "source": [
    "test_worthy_platform_list = get_index_based_on_size(platform_size.values, 100)\n",
    "platform_dfs = get_df_of_each_group(platform, test_worthy_platform_list)\n",
    "len(platform_dfs)"
   ]
  },
  {
   "cell_type": "code",
   "execution_count": 33,
   "id": "70e80152",
   "metadata": {},
   "outputs": [],
   "source": [
    "# Saving Each New Version and Adding it to DVC\n",
    "# Browser Versions\n",
    "browser_dfs[0].to_csv('../data/AdSmartABdata.csv', index=False)\n",
    "# Add to dvc with a new tag \"the name\" => \"chrome-mobile\"\n",
    "browser_dfs[1].to_csv('../data/AdSmartABdata.csv', index=False)\n",
    "# Add to dvc with a new tag \"the name\" => \"chrome-mobile-view\"\n",
    "browser_dfs[2].to_csv('../data/AdSmartABdata.csv', index=False)\n",
    "# Add to dvc with a new tag \"the name\" => \"facebook\"\n",
    "browser_dfs[3].to_csv('../data/AdSmartABdata.csv', index=False)\n",
    "# Add to dvc with a new tag \"the name\" => \"samsung-internet\""
   ]
  },
  {
   "cell_type": "code",
   "execution_count": 35,
   "id": "8003372a",
   "metadata": {},
   "outputs": [],
   "source": [
    "platform_dfs[0].to_csv('../data/AdSmartABdata1.csv', index=False)"
   ]
  },
  {
   "cell_type": "code",
   "execution_count": null,
   "id": "6b2d5e97",
   "metadata": {},
   "outputs": [],
   "source": []
  }
 ],
 "metadata": {
  "kernelspec": {
   "display_name": "Python 3",
   "language": "python",
   "name": "python3"
  },
  "language_info": {
   "codemirror_mode": {
    "name": "ipython",
    "version": 3
   },
   "file_extension": ".py",
   "mimetype": "text/x-python",
   "name": "python",
   "nbconvert_exporter": "python",
   "pygments_lexer": "ipython3",
   "version": "3.8.8"
  }
 },
 "nbformat": 4,
 "nbformat_minor": 5
}
